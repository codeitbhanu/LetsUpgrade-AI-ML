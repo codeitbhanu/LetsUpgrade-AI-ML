{
 "cells": [
  {
   "cell_type": "markdown",
   "metadata": {},
   "source": [
    "# Assignment Day 5 | 10th July 2020"
   ]
  },
  {
   "cell_type": "markdown",
   "metadata": {},
   "source": [
    "## 1. Write a Python program to find the first 20 non-even prime natural numbers.\n"
   ]
  },
  {
   "cell_type": "code",
   "execution_count": 28,
   "metadata": {},
   "outputs": [],
   "source": [
    "def is_prime_and_div_by_2(num):\n",
    "    _result = False\n",
    "    if num > 1 and num % 2 != 0:\n",
    "        for i in range(2,num):\n",
    "            if num % i == 0:\n",
    "                break\n",
    "        else:\n",
    "            _result = True\n",
    "    return _result"
   ]
  },
  {
   "cell_type": "code",
   "execution_count": 29,
   "metadata": {},
   "outputs": [],
   "source": [
    "def first_twenty():\n",
    "    _results = []\n",
    "    _count = 0\n",
    "    _last = 0\n",
    "    while(_count < 20):\n",
    "        _last += 1\n",
    "        if is_prime_and_div_by_2(_last):\n",
    "            _results.append(_last)\n",
    "            _count +=1\n",
    "    return _results"
   ]
  },
  {
   "cell_type": "code",
   "execution_count": 30,
   "metadata": {},
   "outputs": [
    {
     "data": {
      "text/plain": [
       "[3, 5, 7, 11, 13, 17, 19, 23, 29, 31, 37, 41, 43, 47, 53, 59, 61, 67, 71, 73]"
      ]
     },
     "execution_count": 30,
     "metadata": {},
     "output_type": "execute_result"
    }
   ],
   "source": [
    "first_twenty()"
   ]
  },
  {
   "cell_type": "markdown",
   "metadata": {},
   "source": [
    "## 2. Write a Python program to implement 15 functions of string."
   ]
  },
  {
   "cell_type": "code",
   "execution_count": 34,
   "metadata": {},
   "outputs": [
    {
     "name": "stdout",
     "output_type": "stream",
     "text": [
      "#1 lower __hello world!__\n",
      "#2 upper __HELLO WORLD!__\n",
      "#3 strip __Hello WorlD!__\n",
      "#4 lstrip __Hello WorlD!__\n",
      "#5 rstrip __Hello WorlD!__\n",
      "#6 swapcase __hELLO wORLd!__\n",
      "#7 replace __Hezzo WorzD!__\n",
      "#8 find 3\n",
      "#9 islower False\n",
      "#10 isalpha False\n",
      "#11 split ['__Hello', 'WorlD!__']\n",
      "#12 join __Hello WorlD!__^ I am coming\n",
      "#13 casefold __hello world!__\n",
      "#14 capitalize __hello world!__\n",
      "#15 endswith True\n"
     ]
    }
   ],
   "source": [
    "my_string = \"__Hello WorlD!__\"\n",
    "print(f\"#1 lower {my_string.lower()}\")\n",
    "print(f\"#2 upper {my_string.upper()}\")\n",
    "print(f\"#3 strip {my_string.strip()}\")\n",
    "print(f\"#4 lstrip {my_string.lstrip()}\")\n",
    "print(f\"#5 rstrip {my_string.rstrip()}\")\n",
    "print(f\"#6 swapcase {my_string.swapcase()}\")\n",
    "print(f\"#7 replace {my_string.replace('l','z')}\")\n",
    "print(f\"#8 find {my_string.find('e')}\")\n",
    "print(f\"#9 islower {my_string.islower()}\")\n",
    "print(f\"#10 isalpha {my_string.isalpha()}\")\n",
    "print(f\"#11 split {my_string.split()}\")\n",
    "print(f\"#12 join {'^'.join([my_string, ' I am coming'])}\")\n",
    "print(f\"#13 casefold {my_string.casefold()}\")\n",
    "print(f\"#14 capitalize {my_string.capitalize()}\")\n",
    "print(f\"#15 endswith {my_string.endswith('_')}\")"
   ]
  },
  {
   "cell_type": "markdown",
   "metadata": {},
   "source": [
    "## 3. Write a Python program to check if the given string is a Palindrome or Anagram or None of them. Display the message accordingly to the user."
   ]
  },
  {
   "cell_type": "code",
   "execution_count": 41,
   "metadata": {},
   "outputs": [],
   "source": [
    "def check_condition(str1, str2 = ''):\n",
    "    if str1.lower() == str1.lower()[::-1]:\n",
    "        print(f\"{str1} is Palindrome\")\n",
    "    elif str2 != '' and sorted(str1.lower().replace(' ','')) == sorted(str2.lower().replace(' ','')):\n",
    "        print(f\"{str1} and {str2} are Anagram\")\n",
    "    else:\n",
    "        print(\"None of them\")\n"
   ]
  },
  {
   "cell_type": "code",
   "execution_count": 42,
   "metadata": {},
   "outputs": [
    {
     "name": "stdout",
     "output_type": "stream",
     "text": [
      "Stats is Palindrome\n",
      "Race and Care are Anagram\n",
      "None of them\n"
     ]
    }
   ],
   "source": [
    "#Try 1\n",
    "check_condition(\"Stats\")\n",
    "\n",
    "#Try 2\n",
    "check_condition(\"Race\", \"Care\")\n",
    "\n",
    "#Try 3\n",
    "check_condition(\"Random\")"
   ]
  },
  {
   "cell_type": "markdown",
   "metadata": {},
   "source": [
    "## 4. Write a Python's user defined function that removes all the additional characters from the string and converts it finally to lower case using built-in lower(). eg: If the string is \"Dr. Darshan Ingle @AI-ML Trainer\", then the output be \"drdarshaningleaimltrainer\"."
   ]
  },
  {
   "cell_type": "code",
   "execution_count": 44,
   "metadata": {},
   "outputs": [
    {
     "name": "stdout",
     "output_type": "stream",
     "text": [
      "drdarshaningleaimltrainer\n"
     ]
    }
   ],
   "source": [
    "sample_string = \"Dr. Darshan Ingle @AI-ML Trainer\"\n",
    "output_string = \"\"\n",
    "for char in sample_string.lower():\n",
    "    if char.isalpha():\n",
    "        output_string += char\n",
    "print(output_string)"
   ]
  },
  {
   "cell_type": "code",
   "execution_count": null,
   "metadata": {},
   "outputs": [],
   "source": []
  }
 ],
 "metadata": {
  "kernelspec": {
   "display_name": "Python 3",
   "language": "python",
   "name": "python3"
  },
  "language_info": {
   "codemirror_mode": {
    "name": "ipython",
    "version": 3
   },
   "file_extension": ".py",
   "mimetype": "text/x-python",
   "name": "python",
   "nbconvert_exporter": "python",
   "pygments_lexer": "ipython3",
   "version": "3.7.6"
  }
 },
 "nbformat": 4,
 "nbformat_minor": 2
}
