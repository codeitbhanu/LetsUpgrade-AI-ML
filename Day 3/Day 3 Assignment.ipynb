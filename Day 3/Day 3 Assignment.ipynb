{
 "cells": [
  {
   "cell_type": "markdown",
   "metadata": {},
   "source": [
    "## 1. Write a program to subtract two complex numbers in Python"
   ]
  },
  {
   "cell_type": "code",
   "execution_count": 3,
   "metadata": {
    "tags": []
   },
   "outputs": [
    {
     "name": "stdout",
     "output_type": "stream",
     "text": [
      "Subtraction of complex numbers (4+8j) and (2+22j) is (2-14j)\n"
     ]
    }
   ],
   "source": [
    "x = 4+8j\n",
    "y = 2+22j\n",
    "print('Subtraction of complex numbers',x,'and',y,'is',(x-y))"
   ]
  },
  {
   "cell_type": "markdown",
   "metadata": {},
   "source": [
    "## 2. Write a program to find the fourth root of a number."
   ]
  },
  {
   "cell_type": "code",
   "execution_count": 9,
   "metadata": {
    "tags": []
   },
   "outputs": [
    {
     "name": "stdout",
     "output_type": "stream",
     "text": [
      "Forth Root of 1024 is 5\n"
     ]
    }
   ],
   "source": [
    "num = 1024\n",
    "forth_root = int(num**(1./4))\n",
    "print('Forth Root of',num,'is',forth_root)"
   ]
  },
  {
   "cell_type": "markdown",
   "metadata": {},
   "source": [
    "## 3. Write a program to swap two numbers in Python with the help of a temporary variable."
   ]
  },
  {
   "cell_type": "code",
   "execution_count": 10,
   "metadata": {
    "tags": []
   },
   "outputs": [
    {
     "name": "stdout",
     "output_type": "stream",
     "text": [
      "first_num: 8 second_num: 3 after swapping\n"
     ]
    }
   ],
   "source": [
    "first_num = 3\n",
    "second_num = 8\n",
    "temp_num = -1\n",
    "\n",
    "temp_num = first_num\n",
    "first_num = second_num\n",
    "second_num = temp_num\n",
    "temp_num = -1 # Optional\n",
    "\n",
    "print(f'first_num: {first_num} second_num: {second_num} after swapping')"
   ]
  },
  {
   "cell_type": "markdown",
   "metadata": {},
   "source": [
    "## 4. Write a program to swap two numbers in Python without using a temporary variable."
   ]
  },
  {
   "cell_type": "code",
   "execution_count": 11,
   "metadata": {
    "tags": []
   },
   "outputs": [
    {
     "name": "stdout",
     "output_type": "stream",
     "text": [
      "num1: 20 num2: 10 after swapping\n"
     ]
    }
   ],
   "source": [
    "num1 = 10\n",
    "num2 = 20\n",
    "\n",
    "num2, num1 = num1, num2\n",
    "\n",
    "print(f'num1: {num1} num2: {num2} after swapping')"
   ]
  },
  {
   "cell_type": "markdown",
   "metadata": {},
   "source": [
    "## 5. Write a program to convert fahrenheit to kelvin and celsius both."
   ]
  },
  {
   "cell_type": "code",
   "execution_count": 17,
   "metadata": {
    "tags": []
   },
   "outputs": [
    {
     "name": "stdout",
     "output_type": "stream",
     "text": [
      "Fahrenheit: 99.80 ( F ) is \n",
      "Kelvin: 311.17 ( K )\n",
      "Celsius: 37.67 ( C )\n"
     ]
    }
   ],
   "source": [
    "val_fahrenheit = 99.8\n",
    "val_celsius = (val_fahrenheit - 32) * 5.0/9.0\n",
    "val_kelvin = 273.5 + val_celsius\n",
    "\n",
    "print(f'Fahrenheit: {val_fahrenheit:.2f} ( F ) is \\nKelvin: {val_kelvin:.2f} ( K )\\nCelsius: {val_celsius:.2f} ( C )')"
   ]
  },
  {
   "cell_type": "markdown",
   "metadata": {},
   "source": [
    "## 6. Write a program to demonstrate all the available data types in Python. Hint: Use type() function."
   ]
  },
  {
   "cell_type": "code",
   "execution_count": 29,
   "metadata": {
    "tags": []
   },
   "outputs": [
    {
     "name": "stdout",
     "output_type": "stream",
     "text": [
      "<class 'int'>\n",
      "<class 'float'>\n",
      "<class 'str'>\n",
      "<class 'tuple'>\n",
      "<class 'list'>\n",
      "<class 'set'>\n",
      "<class 'dict'>\n",
      "<class 'bool'>\n"
     ]
    }
   ],
   "source": [
    "var = 1\n",
    "print(type(var))\n",
    "\n",
    "var = 1.0\n",
    "print(type(var))\n",
    "\n",
    "var = 'duck'\n",
    "print(type(var))\n",
    "\n",
    "var = (1,2,3)\n",
    "print(type(var))\n",
    "\n",
    "var = [1,2,3]\n",
    "print(type(var))\n",
    "\n",
    "var = {1,2,3}\n",
    "print(type(var))\n",
    "\n",
    "var = {'one': 1, 'two': 2, 'three': 3}\n",
    "print(type(var))\n",
    "\n",
    "var = True\n",
    "print(type(var))"
   ]
  },
  {
   "cell_type": "markdown",
   "metadata": {},
   "source": [
    "## 7. Create a Markdown cell in jupyter and list the steps discussed in the session by Dr. Darshan Ingle sir to create Github profile and upload Githubs Assignment link."
   ]
  },
  {
   "cell_type": "markdown",
   "metadata": {},
   "source": [
    " ___Steps to create a Github profile and upload Githubs Assignments link___\n",
    "\n",
    " ### 1. Goto Github.com\n",
    " ### 2. Signup or Login to your profile\n",
    " ### 3. Create a new repository named ***LetsUpgrade AI-ML***\n",
    " ### 4. Keep the repository publicly accessible\n",
    " ### 5. Goto your created repository and select **uploading an existing file* to open a file upload box\n",
    " ### 5. Create a Day wise directory for your local computer for jupyter notebook, eg. Day 3\n",
    " ### 6. Complete your assignment in a jupyter notebook and save it into daywise assignment directory eg. Day 3 with .ipynb extension.\n",
    " ### 7. Drop the folder Day 3 into repository ***LetsUpgrade AI-ML***\n",
    " ### 8. Add a comment under it for a short description of assignment work.\n",
    " ### 9. Click commit changes."
   ]
  }
 ],
 "metadata": {
  "kernelspec": {
   "display_name": "Python 3",
   "language": "python",
   "name": "python3"
  },
  "language_info": {
   "codemirror_mode": {
    "name": "ipython",
    "version": 3
   },
   "file_extension": ".py",
   "mimetype": "text/x-python",
   "name": "python",
   "nbconvert_exporter": "python",
   "pygments_lexer": "ipython3",
   "version": "3.7.6"
  }
 },
 "nbformat": 4,
 "nbformat_minor": 2
}
