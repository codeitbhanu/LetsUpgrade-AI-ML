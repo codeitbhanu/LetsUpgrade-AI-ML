{
 "cells": [
  {
   "cell_type": "markdown",
   "metadata": {},
   "source": [
    "# Assignment Day 4 | 9th July 2020"
   ]
  },
  {
   "cell_type": "markdown",
   "metadata": {},
   "source": [
    "## 1. Research on whether addition, subtraction, multiplication, division, floor division and modulo operations be performed on complex numbers. Based on your study, implement a Python program to demonstrate these operations."
   ]
  },
  {
   "cell_type": "code",
   "execution_count": 1,
   "metadata": {
    "tags": []
   },
   "outputs": [
    {
     "name": "stdout",
     "output_type": "stream",
     "text": [
      "Addition of (1+2j) and (5+7j) = (6+9j)\n",
      "Subtraction of (1+2j) and (5+7j) = (-4-5j)\n",
      "Multiplication of (1+2j) and (5+7j) = (-9+17j)\n",
      "Division of (1+2j) and (5+7j) = (0.2567567567567568+0.04054054054054054j)\n",
      "Floor division // and Modulo % _ cannot be performed\n"
     ]
    }
   ],
   "source": [
    "num1 = 1+2j\n",
    "num2 = 5+7j\n",
    "\n",
    "print(f'Addition of {num1} and {num2} = {num1+num2}')\n",
    "print(f'Subtraction of {num1} and {num2} = {num1 - num2}')\n",
    "print(f'Multiplication of {num1} and {num2} = {num1 * num2}')\n",
    "print(f'Division of {num1} and {num2} = {num1 / num2}')\n",
    "# print(f'Addition of {num1} and {num2} = {num1 // num2}')\n",
    "# print(f'Addition of {num1} and {num2} = {num1 % num2}')\n",
    "print('Floor division // and Modulo % _ cannot be performed')\n"
   ]
  },
  {
   "cell_type": "markdown",
   "metadata": {},
   "source": [
    "## 2. Research on range() function and its parameters. Create a markdown cell and write in you own words (no copy-paste from google please) what you understand about it. Implement a small program of your choice on the same."
   ]
  },
  {
   "cell_type": "markdown",
   "metadata": {},
   "source": [
    "___range() function:___\n",
    "It is a function to generate list of sequecial numbers in increment / decrement order, provided start, stop and step to generate it."
   ]
  },
  {
   "cell_type": "code",
   "execution_count": 2,
   "metadata": {
    "tags": []
   },
   "outputs": [
    {
     "output_type": "stream",
     "name": "stdout",
     "text": "Table of Two:\n2 X 1 = 2\n2 X 2 = 4\n2 X 3 = 6\n2 X 4 = 8\n2 X 5 = 10\n2 X 6 = 12\n2 X 7 = 14\n2 X 8 = 16\n2 X 9 = 18\n2 X 10 = 20\n"
    }
   ],
   "source": [
    "print('Table of Two:')\n",
    "for multiplier in range(1,11,1):\n",
    "    print(f'2 X {multiplier} = {2 * multiplier}')"
   ]
  },
  {
   "cell_type": "markdown",
   "metadata": {},
   "source": [
    "## 3. Consider two numbers. Perform their subtraction and if result of subtraction is greater than 25, print their multiplication result else print their divisin result"
   ]
  },
  {
   "cell_type": "code",
   "execution_count": 3,
   "metadata": {
    "tags": []
   },
   "outputs": [
    {
     "output_type": "stream",
     "name": "stdout",
     "text": "Multiplication of 50 and 10 = 500\n"
    }
   ],
   "source": [
    "num1 = 50\n",
    "num2 = 10\n",
    "\n",
    "if num1 - num2 > 25:\n",
    "    print(f'Multiplication of {num1} and {num2} = {num1 * num2}')\n",
    "else:\n",
    "    print(f'Division of {num1} and {num2} = {num1 * num2}')"
   ]
  },
  {
   "cell_type": "markdown",
   "metadata": {},
   "source": [
    "## 4. Consider a list of 10 elements of integer values. if the number in the list is divisible by 2, print the result as \"square of that number minus 2\""
   ]
  },
  {
   "cell_type": "code",
   "execution_count": 4,
   "metadata": {
    "tags": []
   },
   "outputs": [
    {
     "output_type": "stream",
     "name": "stdout",
     "text": "Square of 2 - 2 = 2\nSquare of 4 - 2 = 14\nSquare of 6 - 2 = 34\nSquare of 8 - 2 = 62\nSquare of 10 - 2 = 98\n"
    }
   ],
   "source": [
    "some_list = [1,2,3,4,5,6,7,8,9,10]\n",
    "for num in some_list:\n",
    "    if num % 2 == 0:\n",
    "        print(f'Square of {num} - 2 = {num**2 - 2}')"
   ]
  },
  {
   "cell_type": "markdown",
   "metadata": {},
   "source": [
    "## 5. Consider a list of 10 elements. Print all the elements in the list which are greater than 7 when that number is divided by 2"
   ]
  },
  {
   "cell_type": "code",
   "execution_count": 6,
   "metadata": {
    "tags": []
   },
   "outputs": [
    {
     "output_type": "stream",
     "name": "stdout",
     "text": "Numbers greater than 7 when that number is divided by 2\n23\n99\n34\n23\n55\n21\n20\n89\n"
    }
   ],
   "source": [
    "lst = [5, 23, 99, 34, 23, 55, 21, 10, 20, 89]\n",
    "print(\"Numbers greater than 7 when that number is divided by 2\")\n",
    "for i in lst:\n",
    "    if i/2 > 7:\n",
    "        print(i)"
   ]
  },
  {
   "cell_type": "code",
   "execution_count": null,
   "metadata": {},
   "outputs": [],
   "source": []
  }
 ],
 "metadata": {
  "kernelspec": {
   "display_name": "Python 3",
   "language": "python",
   "name": "python3"
  },
  "language_info": {
   "codemirror_mode": {
    "name": "ipython",
    "version": 3
   },
   "file_extension": ".py",
   "mimetype": "text/x-python",
   "name": "python",
   "nbconvert_exporter": "python",
   "pygments_lexer": "ipython3",
   "version": "3.7.6"
  }
 },
 "nbformat": 4,
 "nbformat_minor": 2
}