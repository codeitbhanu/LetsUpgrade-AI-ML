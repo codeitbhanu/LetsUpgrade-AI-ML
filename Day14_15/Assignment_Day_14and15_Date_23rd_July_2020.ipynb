{
 "cells": [
  {
   "cell_type": "markdown",
   "metadata": {},
   "source": [
    "# 1. Create a 3x3x3 array with random values "
   ]
  },
  {
   "cell_type": "code",
   "execution_count": 2,
   "metadata": {},
   "outputs": [],
   "source": [
    "import numpy as np"
   ]
  },
  {
   "cell_type": "code",
   "execution_count": 5,
   "metadata": {},
   "outputs": [
    {
     "data": {
      "text/plain": [
       "array([[[0.21382556, 0.82164685, 0.55415473],\n",
       "        [0.53867478, 0.10542479, 0.499776  ],\n",
       "        [0.91381207, 0.23895206, 0.97874552]],\n",
       "\n",
       "       [[0.13235976, 0.20627197, 0.06083863],\n",
       "        [0.55052001, 0.48127527, 0.66129185],\n",
       "        [0.47998717, 0.51304952, 0.48498503]],\n",
       "\n",
       "       [[0.95705393, 0.98114833, 0.52629729],\n",
       "        [0.57405912, 0.94776165, 0.99569904],\n",
       "        [0.1934534 , 0.98676223, 0.59505933]]])"
      ]
     },
     "execution_count": 5,
     "metadata": {},
     "output_type": "execute_result"
    }
   ],
   "source": [
    "random_nparr = np.random.random((3,3,3))\n",
    "\n",
    "random_nparr"
   ]
  },
  {
   "cell_type": "markdown",
   "metadata": {},
   "source": [
    "# 2.Create a 5x5 matrix with values 1,2,3,4 just below the diagonal"
   ]
  },
  {
   "cell_type": "code",
   "execution_count": 7,
   "metadata": {},
   "outputs": [
    {
     "data": {
      "text/plain": [
       "array([[0, 0, 0, 0, 0],\n",
       "       [1, 0, 0, 0, 0],\n",
       "       [0, 2, 0, 0, 0],\n",
       "       [0, 0, 3, 0, 0],\n",
       "       [0, 0, 0, 4, 0]])"
      ]
     },
     "execution_count": 7,
     "metadata": {},
     "output_type": "execute_result"
    }
   ],
   "source": [
    "nparr_5x5 = np.diag([1,2,3,4], -1)\n",
    "\n",
    "nparr_5x5"
   ]
  },
  {
   "cell_type": "markdown",
   "metadata": {},
   "source": [
    "# 3.Create a 8x8 matrix and fill it with a checkerboard pattern"
   ]
  },
  {
   "cell_type": "code",
   "execution_count": 8,
   "metadata": {},
   "outputs": [],
   "source": [
    "checker_board = np.zeros((8,8),dtype=int)"
   ]
  },
  {
   "cell_type": "code",
   "execution_count": 9,
   "metadata": {},
   "outputs": [
    {
     "data": {
      "text/plain": [
       "array([[0, 1, 0, 1, 0, 1, 0, 1],\n",
       "       [1, 0, 1, 0, 1, 0, 1, 0],\n",
       "       [0, 1, 0, 1, 0, 1, 0, 1],\n",
       "       [1, 0, 1, 0, 1, 0, 1, 0],\n",
       "       [0, 1, 0, 1, 0, 1, 0, 1],\n",
       "       [1, 0, 1, 0, 1, 0, 1, 0],\n",
       "       [0, 1, 0, 1, 0, 1, 0, 1],\n",
       "       [1, 0, 1, 0, 1, 0, 1, 0]])"
      ]
     },
     "execution_count": 9,
     "metadata": {},
     "output_type": "execute_result"
    }
   ],
   "source": [
    "checker_board[1::2,::2] = 1\n",
    "checker_board[::2,1::2] = 1\n",
    "\n",
    "checker_board"
   ]
  },
  {
   "cell_type": "markdown",
   "metadata": {},
   "source": [
    "# 4. Normalize a 5x5 random matrix"
   ]
  },
  {
   "cell_type": "code",
   "execution_count": 11,
   "metadata": {},
   "outputs": [
    {
     "data": {
      "text/plain": [
       "array([[0.33499204, 0.63697048, 0.10364588, 0.40423227, 0.99058302],\n",
       "       [0.04187549, 0.37373252, 0.        , 0.32038434, 0.22467469],\n",
       "       [0.80002427, 0.09487886, 0.23169076, 0.74096109, 0.36398285],\n",
       "       [0.62829388, 0.95024584, 0.32399419, 0.25782155, 1.        ],\n",
       "       [0.14952509, 0.49167482, 0.25013374, 0.84285408, 0.1352879 ]])"
      ]
     },
     "execution_count": 11,
     "metadata": {},
     "output_type": "execute_result"
    }
   ],
   "source": [
    "normal_arr = np.random.random((5,5))\n",
    "\n",
    "arr_max, arr_min = normal_arr.max(), normal_arr.min()\n",
    "\n",
    "normal_arr = (normal_arr - arr_min) / (arr_max - arr_min)\n",
    "\n",
    "normal_arr"
   ]
  },
  {
   "cell_type": "markdown",
   "metadata": {},
   "source": [
    "# 5.  How to find common values between two arrays?"
   ]
  },
  {
   "cell_type": "code",
   "execution_count": 12,
   "metadata": {},
   "outputs": [
    {
     "name": "stdout",
     "output_type": "stream",
     "text": [
      "np_arr1:  [ 2  4  8 10 20]\n",
      "Array2:  [10, 30, 40]\n",
      "Common values:  [10]\n"
     ]
    }
   ],
   "source": [
    "np_arr1 = np.array([2,4,8,10,20])\n",
    "print(\"np_arr1: \",np_arr1)\n",
    "np_arr2 = [10, 30, 40]\n",
    "print(\"Array2: \",np_arr2)\n",
    "\n",
    "print(\"Common values: \", np.intersect1d(np_arr1, np_arr2))"
   ]
  },
  {
   "cell_type": "markdown",
   "metadata": {},
   "source": [
    "# 6.How to get the dates of yesterday, today and tomorrow?"
   ]
  },
  {
   "cell_type": "code",
   "execution_count": 14,
   "metadata": {},
   "outputs": [
    {
     "name": "stdout",
     "output_type": "stream",
     "text": [
      "Yestraday:  2020-07-27\n",
      "Today:  2020-07-28\n",
      "Tomorrow:  2020-07-29\n"
     ]
    }
   ],
   "source": [
    "date_yesterday = np.datetime64('today', 'D') - np.timedelta64(1, 'D')\n",
    "print(\"Yestraday: \",date_yesterday)\n",
    "date_today     = np.datetime64('today', 'D')\n",
    "print(\"Today: \",date_today)\n",
    "date_tomorrow  = np.datetime64('today', 'D') + np.timedelta64(1, 'D')\n",
    "print(\"Tomorrow: \",date_tomorrow)"
   ]
  },
  {
   "cell_type": "markdown",
   "metadata": {},
   "source": [
    "# 7. Consider two random array A and B, check if they are equal"
   ]
  },
  {
   "cell_type": "code",
   "execution_count": 16,
   "metadata": {},
   "outputs": [
    {
     "name": "stdout",
     "output_type": "stream",
     "text": [
      "Equal?  True\n"
     ]
    }
   ],
   "source": [
    "arr1 = np.array([1,2,3])\n",
    "arr2 = np.array([1,2,3])\n",
    "\n",
    "print(\"Equal? \", np.array_equal(arr1, arr2))"
   ]
  },
  {
   "cell_type": "code",
   "execution_count": 17,
   "metadata": {},
   "outputs": [
    {
     "name": "stdout",
     "output_type": "stream",
     "text": [
      "Equal?  False\n"
     ]
    }
   ],
   "source": [
    "arr1 = np.array([1,2,3])\n",
    "arr2 = np.array([1,9,3])\n",
    "\n",
    "print(\"Equal? \", np.array_equal(arr1, arr2))"
   ]
  },
  {
   "cell_type": "markdown",
   "metadata": {},
   "source": [
    "# 8.Create random vector of size 10 and replace the maximum value by 0 "
   ]
  },
  {
   "cell_type": "code",
   "execution_count": 22,
   "metadata": {},
   "outputs": [
    {
     "data": {
      "text/plain": [
       "array([0.73018339, 0.55584955, 0.        , 0.41740197, 0.28137584,\n",
       "       0.63253854, 0.55891752, 0.75563077, 0.44966248, 0.39792443])"
      ]
     },
     "execution_count": 22,
     "metadata": {},
     "output_type": "execute_result"
    }
   ],
   "source": [
    "np_arr = np.random.random(10)\n",
    "np_arr[np_arr.argmax()] = 0\n",
    "\n",
    "np_arr"
   ]
  },
  {
   "cell_type": "markdown",
   "metadata": {},
   "source": [
    "# 9. How to print all the values of an array?"
   ]
  },
  {
   "cell_type": "code",
   "execution_count": 25,
   "metadata": {},
   "outputs": [
    {
     "data": {
      "text/plain": [
       "array([ 0,  1,  2,  3,  4,  5,  6,  7,  8,  9, 10])"
      ]
     },
     "execution_count": 25,
     "metadata": {},
     "output_type": "execute_result"
    }
   ],
   "source": [
    "np_arr = np.arange(11)\n",
    "\n",
    "np_arr"
   ]
  },
  {
   "cell_type": "markdown",
   "metadata": {},
   "source": [
    "# 10.Subtract the mean of each row of a matrix"
   ]
  },
  {
   "cell_type": "code",
   "execution_count": 31,
   "metadata": {},
   "outputs": [
    {
     "data": {
      "text/plain": [
       "array([[ 0,  1,  2,  3],\n",
       "       [ 4,  5,  6,  7],\n",
       "       [ 8,  9, 10, 11]])"
      ]
     },
     "execution_count": 31,
     "metadata": {},
     "output_type": "execute_result"
    }
   ],
   "source": [
    "arr_orig = np.arange(12).reshape(3,4)\n",
    "\n",
    "arr_orig"
   ]
  },
  {
   "cell_type": "code",
   "execution_count": 32,
   "metadata": {},
   "outputs": [
    {
     "data": {
      "text/plain": [
       "array([[-1.5],\n",
       "       [-5.5],\n",
       "       [-9.5]])"
      ]
     },
     "execution_count": 32,
     "metadata": {},
     "output_type": "execute_result"
    }
   ],
   "source": [
    "arr_result = arr_result - arr_orig.mean(axis=1, keepdims = True)\n",
    "\n",
    "arr_result"
   ]
  },
  {
   "cell_type": "markdown",
   "metadata": {},
   "source": [
    "# 11.Consider a given vector, how to add 1 to each element indexed by a second vector (be careful with repeated indices)? "
   ]
  },
  {
   "cell_type": "code",
   "execution_count": 40,
   "metadata": {},
   "outputs": [
    {
     "name": "stdout",
     "output_type": "stream",
     "text": [
      "Given vector: [4 1 3 2 3]\n"
     ]
    }
   ],
   "source": [
    "#given vector\n",
    "arr_given = np.random.randint(1,5,5)\n",
    "print(\"Given vector:\", arr_given)\n",
    "arr_second = np.random.randint(arr_given)\n",
    "arr_result = []\n",
    "arr_second.sort()\n",
    "for i in arr_second:\n",
    "    if i not in arr_result:\n",
    "        arr_result.append(i)\n",
    "\n",
    "for j in arr_result:\n",
    "    arr_given[j] += 1"
   ]
  },
  {
   "cell_type": "code",
   "execution_count": 41,
   "metadata": {},
   "outputs": [
    {
     "name": "stdout",
     "output_type": "stream",
     "text": [
      "Indexing vector: [0 0 1 2 2]\n",
      "Result: [5 2 4 2 3]\n"
     ]
    }
   ],
   "source": [
    "print(\"Indexing vector:\", arr_second)\n",
    "print(\"Result:\",arr_given)"
   ]
  },
  {
   "cell_type": "markdown",
   "metadata": {},
   "source": [
    "# 12.How to get the diagonal of a dot product?"
   ]
  },
  {
   "cell_type": "code",
   "execution_count": 42,
   "metadata": {},
   "outputs": [
    {
     "data": {
      "text/plain": [
       "array([ 250, 5000])"
      ]
     },
     "execution_count": 42,
     "metadata": {},
     "output_type": "execute_result"
    }
   ],
   "source": [
    "X = [[10,20],[100,200]]\n",
    "Y = [[5,10],[10,20]]\n",
    "Z = np.diag(np.dot(X,Y))\n",
    "Z"
   ]
  },
  {
   "cell_type": "markdown",
   "metadata": {},
   "source": [
    "# 13.How to find the most frequent value in an array?"
   ]
  },
  {
   "cell_type": "code",
   "execution_count": 46,
   "metadata": {},
   "outputs": [
    {
     "name": "stdout",
     "output_type": "stream",
     "text": [
      "Original array:\n",
      "[2 5 3 2 8 1 1 1 4 0 4 4 3 7 0 7 7 6 1 7]\n",
      "Most frequent value in the above array:\n",
      "1\n"
     ]
    }
   ],
   "source": [
    "arr1 = np.random.randint(0, 10, 20)\n",
    "print(\"Original array:\")\n",
    "print(arr1)\n",
    "print(\"Most frequent value in the above array:\")\n",
    "print(np.bincount(arr1).argmax())"
   ]
  },
  {
   "cell_type": "markdown",
   "metadata": {},
   "source": [
    "# 14.How to get the n largest values of an array"
   ]
  },
  {
   "cell_type": "code",
   "execution_count": 45,
   "metadata": {},
   "outputs": [
    {
     "name": "stdout",
     "output_type": "stream",
     "text": [
      "Original array:\n",
      "[0 1 2 3 4 5 6 7 8 9]\n",
      "Largest value of the array is [9]\n"
     ]
    }
   ],
   "source": [
    "arr1 = np.arange(10)\n",
    "print(\"Original array:\")\n",
    "print(arr1)\n",
    "np.random.shuffle(arr1)\n",
    "n = 1\n",
    "print(\"Largest value of the array is\",arr1[np.argsort(arr1)[-n:]])"
   ]
  },
  {
   "cell_type": "markdown",
   "metadata": {},
   "source": [
    "# 15.How to create a record array from a regular array?"
   ]
  },
  {
   "cell_type": "code",
   "execution_count": 44,
   "metadata": {},
   "outputs": [
    {
     "name": "stdout",
     "output_type": "stream",
     "text": [
      "('ONE', 1)\n",
      "('TWO', 2)\n",
      "('THREE', 3)\n"
     ]
    }
   ],
   "source": [
    "arr1=np.array(['ONE','TWO','THREE'])\n",
    "arr2=np.array([1,2,3])\n",
    "result= np.core.records.fromarrays([arr1, arr2])\n",
    "print(result[0])\n",
    "print(result[1])\n",
    "print(result[2])"
   ]
  },
  {
   "cell_type": "code",
   "execution_count": null,
   "metadata": {},
   "outputs": [],
   "source": []
  }
 ],
 "metadata": {
  "kernelspec": {
   "display_name": "Python 3",
   "language": "python",
   "name": "python3"
  },
  "language_info": {
   "codemirror_mode": {
    "name": "ipython",
    "version": 3
   },
   "file_extension": ".py",
   "mimetype": "text/x-python",
   "name": "python",
   "nbconvert_exporter": "python",
   "pygments_lexer": "ipython3",
   "version": "3.7.6"
  }
 },
 "nbformat": 4,
 "nbformat_minor": 2
}
